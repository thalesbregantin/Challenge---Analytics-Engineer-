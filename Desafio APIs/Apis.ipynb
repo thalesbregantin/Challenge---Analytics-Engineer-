{
 "cells": [
  {
   "cell_type": "code",
   "execution_count": 1,
   "metadata": {},
   "outputs": [],
   "source": [
    "import requests\n",
    "import pandas as pd"
   ]
  },
  {
   "cell_type": "code",
   "execution_count": 8,
   "metadata": {},
   "outputs": [],
   "source": [
    "# Lista de termos de pesquisa\n",
    "search_terms = [\"kindle\", \"google home\", \"apple tv\"]\n",
    "max_items = 50\n",
    "\n",
    "# Lista para armazenar os IDs de itens\n",
    "item_ids = []\n",
    "\n",
    "for search_term in search_terms:\n",
    "    # URL da API para digitalização dos IDs de itens\n",
    "    url_search = f\"https://api.mercadolibre.com/sites/MLA/search?q={search_term}&limit={max_items}#json\"\n",
    "\n",
    "    # Fazer a solicitação GET para obter os IDs de itens\n",
    "    response_search = requests.get(url_search)\n",
    "    data_search = response_search.json()\n",
    "\n",
    "    # Obter os IDs de itens da resposta JSON\n",
    "    if 'results' in data_search:\n",
    "        for item in data_search['results']:\n",
    "            item_ids.append(item['id'])\n",
    "\n",
    "# Lista para armazenar os resultados dos itens\n",
    "results = []\n"
   ]
  },
  {
   "cell_type": "code",
   "execution_count": 9,
   "metadata": {},
   "outputs": [],
   "source": [
    "# Fazer solicitações GET para cada Item_Id e salvar os resultados\n",
    "for item_id in item_ids:\n",
    "    url_item = f\"https://api.mercadolibre.com/items/{item_id}\"\n",
    "    response_item = requests.get(url_item)\n",
    "    data_item = response_item.json()\n",
    "    results.append(data_item)  \n",
    "\n",
    "# Converter os resultados para um DataFrame pandas\n",
    "df = pd.DataFrame(results)\n",
    "\n",
    "# Salvar os resultados em um arquivo CSV\n",
    "df.to_csv('resultados_mercadolibre.csv', index=False)\n"
   ]
  }
 ],
 "metadata": {
  "kernelspec": {
   "display_name": "base",
   "language": "python",
   "name": "python3"
  },
  "language_info": {
   "codemirror_mode": {
    "name": "ipython",
    "version": 3
   },
   "file_extension": ".py",
   "mimetype": "text/x-python",
   "name": "python",
   "nbconvert_exporter": "python",
   "pygments_lexer": "ipython3",
   "version": "3.11.5"
  }
 },
 "nbformat": 4,
 "nbformat_minor": 2
}
